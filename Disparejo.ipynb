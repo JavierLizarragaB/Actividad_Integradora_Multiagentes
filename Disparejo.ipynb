{
 "cells": [
  {
   "cell_type": "code",
   "execution_count": 5,
   "id": "e4883bd2",
   "metadata": {},
   "outputs": [],
   "source": [
    "# Model design\n",
    "import agentpy as ap\n",
    "\n",
    "# Visualization\n",
    "import matplotlib.pyplot as plt\n",
    "import seaborn as sns\n",
    "import IPython\n",
    "import random"
   ]
  },
  {
   "cell_type": "markdown",
   "id": "78129094",
   "metadata": {},
   "source": [
    "El jugador 1 siempre escoge al azar entre las dos opciones.\n",
    "\n",
    "El jugador 2 escoge siempre hacia abajo sin importar lo que haya ocurrido anteriormente.\n",
    "\n",
    "El jugador 3 escoge la última opción ganadora de las partidas anteriores. En la primera jugada, escoge arriba.\n",
    "\n",
    "El jugador 4 escoge aquello opuesto al jugador 1 en la última partida. En la primera jugada, escoge al azar."
   ]
  },
  {
   "cell_type": "code",
   "execution_count": 32,
   "id": "3f83ce71",
   "metadata": {},
   "outputs": [],
   "source": [
    "class GameAgent(ap.Agent):\n",
    "    \n",
    "    def setup(self):\n",
    "        self.Choice = 1\n",
    "        \n",
    "    def GameTime(self, LastWinner, nose):\n",
    "        if self.id == 1:\n",
    "            self.Choice = random.randint(0,1)\n",
    "        \n",
    "        elif self.id == 2:\n",
    "            self.Choice = 0\n",
    "        \n",
    "        elif self.id == 3:\n",
    "            if LastWinner != -1:\n",
    "                self.Choice = LastWinner\n",
    "        elif self.id == 4:\n",
    "            if nose == 1:\n",
    "                self.Choice = 0\n",
    "            else:\n",
    "                self.Choice = 1"
   ]
  },
  {
   "cell_type": "code",
   "execution_count": 97,
   "id": "935062c3",
   "metadata": {},
   "outputs": [],
   "source": [
    "class GameModel(ap.Model):\n",
    "\n",
    "    def setup(self):\n",
    "\n",
    "        self.LastWinner = -1\n",
    "        self.winners = []\n",
    "        self.agents = ap.AgentList(self, self.p.agents, GameAgent)\n",
    "\n",
    "    def step(self):\n",
    "        self.agents.GameTime(self.LastWinner, self.agents[0].Choice)\n",
    "                                                         \n",
    "        results = self.agents.Choice\n",
    "\n",
    "        \n",
    "        suma = 0\n",
    "        for coso in results:\n",
    "                suma += coso\n",
    "\n",
    "        if suma == 1:\n",
    "            self.LastWinner = 1\n",
    "            i=0\n",
    "            for choice in results:\n",
    "                if choice == 1:\n",
    "                    break\n",
    "                i+=1      \n",
    "        elif suma == 3:\n",
    "            self.LastWinner = 0\n",
    "            i=0\n",
    "            for choice in results:\n",
    "                if choice == 0:\n",
    "                    break\n",
    "                i+=1    \n",
    "        else:\n",
    "            self.LastWinner = -1\n",
    "            i=-1\n",
    "            \n",
    "        self.winners.append(i)\n",
    "        #self.record('winner', i+1)\n",
    "        #self.record('last winner', self.LastWinner)\n",
    "        \n",
    "    def end(self):\n",
    "        win1 = 0\n",
    "        win2 = 0\n",
    "        win3 = 0\n",
    "        win4 = 0\n",
    "        winEmp = 0\n",
    "\n",
    "        for result in self.winners:\n",
    "            if result == -1:\n",
    "                winEmp +=1\n",
    "            if result == 0:\n",
    "                win1 +=1\n",
    "            if result == 1:\n",
    "                win2 +=1\n",
    "            if result == 2:\n",
    "                win3 +=1\n",
    "            if result == 3:\n",
    "                win4 +=1\n",
    "                \n",
    "        winner =[win1, win2, win3, win4, winEmp]\n",
    "        self.record('resultados', winner)\n",
    "            "
   ]
  },
  {
   "cell_type": "code",
   "execution_count": 98,
   "id": "a81e7ab4",
   "metadata": {},
   "outputs": [],
   "source": [
    "parameters = {\n",
    "    'agents': 4,\n",
    "    'steps': 1000\n",
    "}"
   ]
  },
  {
   "cell_type": "code",
   "execution_count": 99,
   "id": "9a9721cc",
   "metadata": {},
   "outputs": [
    {
     "name": "stdout",
     "output_type": "stream",
     "text": [
      "Completed: 1000 steps\n",
      "Run time: 0:00:00.183867\n",
      "Simulation finished\n"
     ]
    }
   ],
   "source": [
    "model = GameModel(parameters)\n",
    "results = model.run()"
   ]
  },
  {
   "cell_type": "code",
   "execution_count": 100,
   "id": "1f1b7254",
   "metadata": {},
   "outputs": [
    {
     "data": {
      "text/plain": [
       "DataDict {\n",
       "'info': Dictionary with 9 keys\n",
       "'parameters': \n",
       "    'constants': Dictionary with 2 keys\n",
       "'variables': \n",
       "    'GameAgent': DataFrame with 1 variable and 4000 rows\n",
       "    'GameModel': DataFrame with 1 variable and 1 row\n",
       "'reporters': DataFrame with 1 variable and 1 row\n",
       "}"
      ]
     },
     "execution_count": 100,
     "metadata": {},
     "output_type": "execute_result"
    }
   ],
   "source": [
    "results"
   ]
  },
  {
   "cell_type": "code",
   "execution_count": 101,
   "id": "15b82f4b",
   "metadata": {},
   "outputs": [
    {
     "data": {
      "text/plain": [
       "{'model_type': 'GameModel',\n",
       " 'time_stamp': '2021-11-18 01:31:27',\n",
       " 'agentpy_version': '0.1.4',\n",
       " 'python_version': '3.6.1',\n",
       " 'experiment': False,\n",
       " 'completed': True,\n",
       " 'created_objects': 4,\n",
       " 'completed_steps': 1000,\n",
       " 'run_time': '0:00:00.183867'}"
      ]
     },
     "execution_count": 101,
     "metadata": {},
     "output_type": "execute_result"
    }
   ],
   "source": [
    "results.info"
   ]
  },
  {
   "cell_type": "code",
   "execution_count": 102,
   "id": "37998904",
   "metadata": {},
   "outputs": [
    {
     "data": {
      "text/html": [
       "<div>\n",
       "<style scoped>\n",
       "    .dataframe tbody tr th:only-of-type {\n",
       "        vertical-align: middle;\n",
       "    }\n",
       "\n",
       "    .dataframe tbody tr th {\n",
       "        vertical-align: top;\n",
       "    }\n",
       "\n",
       "    .dataframe thead th {\n",
       "        text-align: right;\n",
       "    }\n",
       "</style>\n",
       "<table border=\"1\" class=\"dataframe\">\n",
       "  <thead>\n",
       "    <tr style=\"text-align: right;\">\n",
       "      <th></th>\n",
       "      <th>resultados</th>\n",
       "    </tr>\n",
       "    <tr>\n",
       "      <th>t</th>\n",
       "      <th></th>\n",
       "    </tr>\n",
       "  </thead>\n",
       "  <tbody>\n",
       "    <tr>\n",
       "      <th>1000</th>\n",
       "      <td>[121, 190, 122, 69, 498]</td>\n",
       "    </tr>\n",
       "  </tbody>\n",
       "</table>\n",
       "</div>"
      ],
      "text/plain": [
       "                    resultados\n",
       "t                             \n",
       "1000  [121, 190, 122, 69, 498]"
      ]
     },
     "execution_count": 102,
     "metadata": {},
     "output_type": "execute_result"
    }
   ],
   "source": [
    "results.variables.GameModel"
   ]
  },
  {
   "cell_type": "code",
   "execution_count": null,
   "id": "2f43c39e",
   "metadata": {},
   "outputs": [],
   "source": []
  }
 ],
 "metadata": {
  "kernelspec": {
   "display_name": "Python 3",
   "language": "python",
   "name": "python3"
  },
  "language_info": {
   "codemirror_mode": {
    "name": "ipython",
    "version": 3
   },
   "file_extension": ".py",
   "mimetype": "text/x-python",
   "name": "python",
   "nbconvert_exporter": "python",
   "pygments_lexer": "ipython3",
   "version": "3.6.13"
  }
 },
 "nbformat": 4,
 "nbformat_minor": 5
}
